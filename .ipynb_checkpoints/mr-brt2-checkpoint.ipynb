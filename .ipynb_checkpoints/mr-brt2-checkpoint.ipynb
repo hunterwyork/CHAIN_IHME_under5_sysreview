{
 "cells": [
  {
   "cell_type": "markdown",
   "metadata": {},
   "source": [
    "## Import Packages"
   ]
  },
  {
   "cell_type": "code",
   "execution_count": 36,
   "metadata": {},
   "outputs": [],
   "source": [
    "import numpy as np\n",
    "import pandas as pd\n",
    "import matplotlib.pyplot as plt\n",
    "from xspline import xspline\n",
    "\n",
    "import sys\n",
    "sys.path.append('./MR-BRT')\n",
    "from mrbrt import MR_BeRT\n",
    "import mrbrt.utils as utils"
   ]
  },
  {
   "cell_type": "markdown",
   "metadata": {},
   "source": [
    "## Load Data"
   ]
  },
  {
   "cell_type": "code",
   "execution_count": 37,
   "metadata": {},
   "outputs": [],
   "source": [
    "df = pd.read_csv('/snfs1/WORK/01_covariates/02_inputs/education/update_2019/code/child_mort_dir/outputs/cleaned_dataset.csv',\n",
    "                encoding = \"latin-1\")\n",
    "df = df[df['effect_size'].notnull() & \n",
    "        df['upper'].notnull() & \n",
    "        df['lower'].notnull() & \n",
    "        df['cohort_exp_def_lower'].notnull() & \n",
    "        df['cohort_unexp_def_lower'].notnull() & \n",
    "        df['cohort_exp_def_upper'].notnull() & \n",
    "        df['cohort_unexp_def_upper'].notnull() &\n",
    "        df['cohort_sample_size_total'].notnull()]\n",
    "\n",
    "df = df[df['cohort_unexp_def_lower'] <= df['cohort_unexp_def_upper']]\n",
    "df = df[(df['upper'].values - df['effect_size'].values)/1.96 > 0]\n",
    "df = df[df['effect_size'].values > 0]"
   ]
  },
  {
   "cell_type": "markdown",
   "metadata": {},
   "source": [
    "## Prepare Data"
   ]
  },
  {
   "cell_type": "code",
   "execution_count": 38,
   "metadata": {},
   "outputs": [
    {
     "name": "stdout",
     "output_type": "stream",
     "text": [
      "minimum exposure 0.0\n",
      "maximum exposure 18.99\n",
      "total obs: 1594\n",
      "largest log effect size: 4.504244267398131\n",
      "smallest log effect size: -2.4079456086518722\n",
      "largest log effect size se: 1.7535236361201978\n",
      "smallest log effect size se: 0.0052329082485658715\n"
     ]
    }
   ],
   "source": [
    "# data\n",
    "obs_mean = np.log(df['effect_size'].values)\n",
    "obs_std = ((np.log(df['upper'].values) - np.log(df['effect_size'].values))/1.96) #* np.sqrt(df['cohort_sample_size_total'].values.astype(np.float))\n",
    "num_obs = obs_mean.size\n",
    "# study_sizes = df['study_size'].values\n",
    "N = obs_mean.size\n",
    "study_sizes = np.array([1]*N)\n",
    "\n",
    "b0 = df['cohort_exp_def_lower'].values\n",
    "b1 = df['cohort_exp_def_upper'].values\n",
    "a0 = df['cohort_unexp_def_lower'].values\n",
    "a1 = df['cohort_unexp_def_upper'].values\n",
    "\n",
    "min_exp = np.min(np.hstack((a0, a1, b0, b1)))\n",
    "max_exp = np.max(np.hstack((a0, a1, b0, b1)))\n",
    "print('minimum exposure', min_exp)\n",
    "print('maximum exposure', max_exp)\n",
    "print('total obs:', num_obs)\n",
    "print('largest log effect size:', np.max(obs_mean))\n",
    "print('smallest log effect size:', np.min(obs_mean))\n",
    "print('largest log effect size se:', np.max(obs_std))\n",
    "print('smallest log effect size se:', np.min(obs_std))"
   ]
  },
  {
   "cell_type": "markdown",
   "metadata": {},
   "source": [
    "## `mrbrt` Input - Create Samples of Knots"
   ]
  },
  {
   "cell_type": "code",
   "execution_count": 39,
   "metadata": {},
   "outputs": [
    {
     "data": {
      "text/plain": [
       "array([[ 0.        ,  7.5008706 , 18.99      ],\n",
       "       [ 0.        ,  8.99432249, 18.99      ],\n",
       "       [ 0.        ,  3.16260158, 18.99      ],\n",
       "       [ 0.        ,  4.72672433, 18.99      ],\n",
       "       [ 0.        ,  5.16970474, 18.99      ],\n",
       "       [ 0.        ,  6.62879371, 18.99      ],\n",
       "       [ 0.        ,  4.89070389, 18.99      ],\n",
       "       [ 0.        ,  6.10652788, 18.99      ],\n",
       "       [ 0.        ,  5.02838983, 18.99      ],\n",
       "       [ 0.        ,  3.68830946, 18.99      ],\n",
       "       [ 0.        ,  3.8295459 , 18.99      ],\n",
       "       [ 0.        ,  6.83006657, 18.99      ],\n",
       "       [ 0.        ,  4.71388244, 18.99      ],\n",
       "       [ 0.        ,  7.75874563, 18.99      ],\n",
       "       [ 0.        ,  4.5309909 , 18.99      ],\n",
       "       [ 0.        ,  4.32229549, 18.99      ],\n",
       "       [ 0.        ,  3.35257743, 18.99      ],\n",
       "       [ 0.        ,  7.29909267, 18.99      ],\n",
       "       [ 0.        ,  7.43611084, 18.99      ],\n",
       "       [ 0.        ,  3.28976666, 18.99      ]])"
      ]
     },
     "execution_count": 39,
     "metadata": {},
     "output_type": "execute_result"
    }
   ],
   "source": [
    "# random knots samples\n",
    "# the middle knots will be between b1(3) and b2(9), and there will be 20 samples\n",
    "c1 = (3 - min_exp)/(max_exp - min_exp)\n",
    "c2 = (9 - min_exp)/(max_exp - min_exp)\n",
    "\n",
    "knots_samples = utils.sampleKnots(min_exp, max_exp, 2, b=np.array([[c1, c2]]), N=20)\n",
    "\n",
    "degree = 3\n",
    "spline_list = [xspline(knots, degree) for knots in knots_samples]\n",
    "knots_samples"
   ]
  },
  {
   "cell_type": "markdown",
   "metadata": {},
   "source": [
    "## Add covariates"
   ]
  },
  {
   "cell_type": "code",
   "execution_count": 40,
   "metadata": {},
   "outputs": [],
   "source": [
    "# x covariates\n",
    "# Covariate 0 - The spline on years of schooling\n",
    "x_cov_0 = {\n",
    "        'x_cov_id': 0,\n",
    "        'cov_type': 'log_ratio_spline_integral',\n",
    "        'spline_id': 0,\n",
    "        'mat': np.vstack((b0, b1, a0, a1))\n",
    "}\n",
    "\n",
    "# Covariate 1 - Does the study control for sex?\n",
    "x_cov_1 = {\n",
    "        'x_cov_id': 1,\n",
    "        'cov_type': 'linear',\n",
    "        'mat': df['confounders_sex'].values\n",
    "}\n",
    "\n",
    "# Covariate 2 - Does the study control for income?\n",
    "x_cov_2 = {\n",
    "        'x_cov_id': 2,\n",
    "        'cov_type': 'linear',\n",
    "        'mat': df['confounders_income'].values\n",
    "}\n",
    "\n",
    "# Covariate 3 - Does the study control for age?\n",
    "x_cov_3 = {confounders_income\n",
    "        'x_cov_id': 3,\n",
    "        'cov_type': 'linear',\n",
    "        'mat': df['confounders_age'].values\n",
    "}\n",
    "\n",
    "x_cov_3 = {\n",
    "        'x_cov_id': 4,\n",
    "        'cov_type': 'linear',\n",
    "        'mat': np.vstack((df['dummy_North Africa and Middle East'].values, \n",
    "                          df['dummy_North Africa and Middle East'].values,\n",
    "                          df['dummy_North Africa and Middle East'].values, , a1))\n",
    "}\n",
    "\n",
    "# Covariate 5 - What is the mean age of the age range included in the model?\n",
    "# x_cov_5 = {\n",
    "#         'x_cov_id': 4,\n",
    "#         'cov_type': 'linear',\n",
    "#         'mat': (df['age_start'].values + df['age_end'].values)/2\n",
    "# }\n",
    "\n",
    "\n",
    "x_cov_list = [x_cov_0, x_cov_1, x_cov_2, x_cov_3]\n",
    "#x_cov_list = [x_cov_1,x_cov_2]"
   ]
  },
  {
   "cell_type": "markdown",
   "metadata": {},
   "source": [
    "## Add Random Effects"
   ]
  },
  {
   "cell_type": "code",
   "execution_count": 41,
   "metadata": {},
   "outputs": [],
   "source": [
    "# z covariates\n",
    "z_cov = {\n",
    "    'cov_type': 'linear',\n",
    "    'mat': np.ones(num_obs)\n",
    "}\n",
    "\n",
    "z_cov_list = [z_cov]\n",
    "\n",
    "mr = MR_BeRT(obs_mean, obs_std, study_sizes, x_cov_list, z_cov_list, spline_list,\n",
    "             inlier_percentage=0.9, rr_random_slope=True)"
   ]
  },
  {
   "cell_type": "markdown",
   "metadata": {},
   "source": [
    "## Add Priors"
   ]
  },
  {
   "cell_type": "code",
   "execution_count": 42,
   "metadata": {},
   "outputs": [],
   "source": [
    "# prior list\n",
    "prior_list = [\n",
    "    {\n",
    "        'prior_type': 'spline_shape_monotonicity',\n",
    "        'x_cov_id': 0,\n",
    "        'interval': [min_exp, max_exp],\n",
    "        'indicator': 'decreasing',\n",
    "        'num_points': 20\n",
    "    },\n",
    "    {\n",
    "        'prior_type': 'spline_shape_function_uprior',\n",
    "        'x_cov_id': 0,\n",
    "        'interval': [min_exp, max_exp],\n",
    "        'indicator': [0.1, 100],\n",
    "        'num_points': 20\n",
    "    },\n",
    "    {\n",
    "        'prior_type': 'spline_shape_function_uprior',\n",
    "        'x_cov_id': 0,\n",
    "        'interval': [0.0, 0.0],\n",
    "        'indicator': [1.0, 1.0],\n",
    "        'num_points': 1\n",
    "    }\n",
    "]"
   ]
  },
  {
   "cell_type": "code",
   "execution_count": 22,
   "metadata": {},
   "outputs": [],
   "source": [
    "mr.addPriors(prior_list)"
   ]
  },
  {
   "cell_type": "markdown",
   "metadata": {},
   "source": [
    "## Fit model"
   ]
  },
  {
   "cell_type": "code",
   "execution_count": 23,
   "metadata": {},
   "outputs": [],
   "source": [
    "# fit data\n",
    "mr.fitModel(inner_print_level=5, outer_step_size=100.0, outer_verbose=False)\n",
    "mr.scoreModel(np.array([0.4, 0.6]))"
   ]
  },
  {
   "cell_type": "markdown",
   "metadata": {},
   "source": [
    "## Create Draws of Predictions from the Fit Model"
   ]
  },
  {
   "cell_type": "code",
   "execution_count": 27,
   "metadata": {},
   "outputs": [],
   "source": [
    "# prediction frame set up, all possible values of each variable\n",
    "x = np.array([(cov_0, cov_1, cov_2, cov_3)\n",
    "              for cov_0 in range(19)\n",
    "              for cov_1 in range(2) \n",
    "              for cov_2 in range(2)\n",
    "              for cov_3 in range(2)])"
   ]
  },
  {
   "cell_type": "code",
   "execution_count": 28,
   "metadata": {},
   "outputs": [
    {
     "name": "stdout",
     "output_type": "stream",
     "text": [
      "sampling solution progress 1.00\r"
     ]
    }
   ],
   "source": [
    "\n",
    "pred_x_cov_list = [\n",
    "    {   \n",
    "        'x_cov_id': 0,\n",
    "        'cov_type': 'spline',\n",
    "        'spline_id': 0,\n",
    "        'mat': x[:,0]\n",
    "    },\n",
    "    {\n",
    "        'x_cov_id': 1,\n",
    "        'cov_type': 'linear',\n",
    "        'spline_id': 1,\n",
    "        'mat': x[:,1]\n",
    "    },\n",
    "        {\n",
    "        'x_cov_id': 2,\n",
    "        'cov_type': 'linear',\n",
    "        'spline_id': 1,\n",
    "        'mat': x[:,2]\n",
    "    },\n",
    "        {\n",
    "        'x_cov_id': 3,\n",
    "        'cov_type': 'linear',\n",
    "        'spline_id': 1,\n",
    "        'mat': x[:,3]\n",
    "    }\n",
    "]\n",
    "\n",
    "pred_z_cov_list = [\n",
    "    {\n",
    "        'z_cov_id': 0,\n",
    "        'cov_type': 'linear',\n",
    "        'mat': np.ones(len(x[:,0]))\n",
    "    }\n",
    "]\n",
    "\n",
    "sample_size = 100\n",
    "\n",
    "y_samples_list, beta_samples_list, gamma_samples_list, F_list, Z_list = \\\n",
    "    mr.predictData(pred_x_cov_list, pred_z_cov_list, sample_size,\n",
    "                      include_random_effect=False, ref_point=0.0)\n",
    "\n",
    "y_samples = np.vstack(y_samples_list)"
   ]
  },
  {
   "cell_type": "code",
   "execution_count": 29,
   "metadata": {},
   "outputs": [],
   "source": [
    "m = list(np.repeat(\"rr\",sample_size))\n",
    "n = [str(e) for e in list(range(1, sample_size + 1))]\n",
    "concat_func = lambda x,y: x + \"\" + y\n",
    "cols = list(map(concat_func,m,n))\n",
    "\n",
    "covariates_pred_df = pd.DataFrame(data=x, columns=np.array([\"cov_0\", \"cov_1\", 'cov_2', \"cov_3\"]))\n",
    "rr_pred_df = pd.DataFrame(data = y_samples.T, columns = cols)\n",
    "preds = pd.concat([covariates_pred_df, rr_pred_df], axis=1)"
   ]
  },
  {
   "cell_type": "code",
   "execution_count": 30,
   "metadata": {},
   "outputs": [],
   "source": [
    "preds.to_csv(\"/snfs1/WORK/01_covariates/02_inputs/education/update_2019/code/child_mort_dir/outputs/preds.csv\", index = False)"
   ]
  },
  {
   "cell_type": "code",
   "execution_count": 35,
   "metadata": {},
   "outputs": [],
   "source": [
    "pd.DataFrame(mr.beta_soln).to_csv(\"/snfs1/WORK/01_covariates/02_inputs/education/update_2019/code/child_mort_dir/outputs/betas.csv\", index = False)"
   ]
  },
  {
   "cell_type": "markdown",
   "metadata": {},
   "source": [
    "## Plot Result"
   ]
  },
  {
   "cell_type": "code",
   "execution_count": 31,
   "metadata": {},
   "outputs": [
    {
     "data": {
      "image/png": "[encoded data removed]",
      "text/plain": [
       "<Figure size 432x288 with 1 Axes>"
      ]
     },
     "metadata": {
      "needs_background": "light"
     },
     "output_type": "display_data"
    }
   ],
   "source": [
    "# visualize the risk curve\n",
    "y_mean, y_soln = mr.ensembleCurves(pred_x_cov_list, normalize_y_samples=False)\n",
    "plt.ylim(0.0, 1.2)\n",
    "plt.plot(x, y_mean)\n",
    "\n",
    "plt.xlabel('Maternal Education')\n",
    "plt.ylabel('RR of U5M')\n",
    "plt.title('ratio model')\n",
    "plt.savefig('ed_vs_u5m.png')"
   ]
  },
  {
   "cell_type": "code",
   "execution_count": 222,
   "metadata": {},
   "outputs": [
    {
     "ename": "ValueError",
     "evalue": "operands could not be broadcast together with shapes (152,4) (608,) ",
     "output_type": "error",
     "traceback": [
      "\u001b[0;31m---------------------------------------------------------------------------\u001b[0m",
      "\u001b[0;31mValueError\u001b[0m                                Traceback (most recent call last)",
      "\u001b[0;32m<ipython-input-222-5f60fa11e584>\u001b[0m in \u001b[0;36m<module>\u001b[0;34m\u001b[0m\n\u001b[1;32m      7\u001b[0m \u001b[0;34m\u001b[0m\u001b[0m\n\u001b[1;32m      8\u001b[0m \u001b[0mX_list\u001b[0m \u001b[0;34m=\u001b[0m \u001b[0;34m[\u001b[0m\u001b[0mmr\u001b[0m\u001b[0;34m.\u001b[0m\u001b[0mmr_list\u001b[0m\u001b[0;34m[\u001b[0m\u001b[0mi\u001b[0m\u001b[0;34m]\u001b[0m\u001b[0;34m.\u001b[0m\u001b[0mspline_list\u001b[0m\u001b[0;34m[\u001b[0m\u001b[0;36m0\u001b[0m\u001b[0;34m]\u001b[0m\u001b[0;34m.\u001b[0m\u001b[0mdesignMat\u001b[0m\u001b[0;34m(\u001b[0m\u001b[0mx\u001b[0m\u001b[0;34m)\u001b[0m \u001b[0;32mfor\u001b[0m \u001b[0mi\u001b[0m \u001b[0;32min\u001b[0m \u001b[0mrange\u001b[0m\u001b[0;34m(\u001b[0m\u001b[0mmr\u001b[0m\u001b[0;34m.\u001b[0m\u001b[0mnum_splines\u001b[0m\u001b[0;34m)\u001b[0m\u001b[0;34m]\u001b[0m\u001b[0;34m\u001b[0m\u001b[0;34m\u001b[0m\u001b[0m\n\u001b[0;32m----> 9\u001b[0;31m \u001b[0mdX_list\u001b[0m \u001b[0;34m=\u001b[0m \u001b[0;34m[\u001b[0m\u001b[0mmr\u001b[0m\u001b[0;34m.\u001b[0m\u001b[0mmr_list\u001b[0m\u001b[0;34m[\u001b[0m\u001b[0mi\u001b[0m\u001b[0;34m]\u001b[0m\u001b[0;34m.\u001b[0m\u001b[0mspline_list\u001b[0m\u001b[0;34m[\u001b[0m\u001b[0;36m0\u001b[0m\u001b[0;34m]\u001b[0m\u001b[0;34m.\u001b[0m\u001b[0mdesignDMat\u001b[0m\u001b[0;34m(\u001b[0m\u001b[0mx\u001b[0m\u001b[0;34m,\u001b[0m \u001b[0;36m1\u001b[0m\u001b[0;34m)\u001b[0m \u001b[0;32mfor\u001b[0m \u001b[0mi\u001b[0m \u001b[0;32min\u001b[0m \u001b[0mrange\u001b[0m\u001b[0;34m(\u001b[0m\u001b[0mmr\u001b[0m\u001b[0;34m.\u001b[0m\u001b[0mnum_splines\u001b[0m\u001b[0;34m)\u001b[0m\u001b[0;34m]\u001b[0m\u001b[0;34m\u001b[0m\u001b[0;34m\u001b[0m\u001b[0m\n\u001b[0m\u001b[1;32m     10\u001b[0m \u001b[0mpred_slope_list\u001b[0m \u001b[0;34m=\u001b[0m \u001b[0;34m[\u001b[0m\u001b[0mdX_list\u001b[0m\u001b[0;34m[\u001b[0m\u001b[0mi\u001b[0m\u001b[0;34m]\u001b[0m\u001b[0;34m.\u001b[0m\u001b[0mdot\u001b[0m\u001b[0;34m(\u001b[0m\u001b[0mmr\u001b[0m\u001b[0;34m.\u001b[0m\u001b[0mmr_list\u001b[0m\u001b[0;34m[\u001b[0m\u001b[0mi\u001b[0m\u001b[0;34m]\u001b[0m\u001b[0;34m.\u001b[0m\u001b[0mbeta_soln\u001b[0m\u001b[0;34m)\u001b[0m\u001b[0;34m/\u001b[0m\u001b[0mX_list\u001b[0m\u001b[0;34m[\u001b[0m\u001b[0mi\u001b[0m\u001b[0;34m]\u001b[0m\u001b[0;34m.\u001b[0m\u001b[0mdot\u001b[0m\u001b[0;34m(\u001b[0m\u001b[0mmr\u001b[0m\u001b[0;34m.\u001b[0m\u001b[0mmr_list\u001b[0m\u001b[0;34m[\u001b[0m\u001b[0mi\u001b[0m\u001b[0;34m]\u001b[0m\u001b[0;34m.\u001b[0m\u001b[0mbeta_soln\u001b[0m\u001b[0;34m)\u001b[0m \u001b[0;32mfor\u001b[0m \u001b[0mi\u001b[0m \u001b[0;32min\u001b[0m \u001b[0mrange\u001b[0m\u001b[0;34m(\u001b[0m\u001b[0mmr\u001b[0m\u001b[0;34m.\u001b[0m\u001b[0mnum_splines\u001b[0m\u001b[0;34m)\u001b[0m\u001b[0;34m]\u001b[0m\u001b[0;34m\u001b[0m\u001b[0;34m\u001b[0m\u001b[0m\n\u001b[1;32m     11\u001b[0m \u001b[0mpred_slope\u001b[0m \u001b[0;34m=\u001b[0m \u001b[0mnp\u001b[0m\u001b[0;34m.\u001b[0m\u001b[0mvstack\u001b[0m\u001b[0;34m(\u001b[0m\u001b[0mpred_slope_list\u001b[0m\u001b[0;34m)\u001b[0m\u001b[0;34m.\u001b[0m\u001b[0mT\u001b[0m\u001b[0;34m.\u001b[0m\u001b[0mdot\u001b[0m\u001b[0;34m(\u001b[0m\u001b[0mmr\u001b[0m\u001b[0;34m.\u001b[0m\u001b[0mweights\u001b[0m\u001b[0;34m)\u001b[0m\u001b[0;34m\u001b[0m\u001b[0;34m\u001b[0m\u001b[0m\n",
      "\u001b[0;32m<ipython-input-222-5f60fa11e584>\u001b[0m in \u001b[0;36m<listcomp>\u001b[0;34m(.0)\u001b[0m\n\u001b[1;32m      7\u001b[0m \u001b[0;34m\u001b[0m\u001b[0m\n\u001b[1;32m      8\u001b[0m \u001b[0mX_list\u001b[0m \u001b[0;34m=\u001b[0m \u001b[0;34m[\u001b[0m\u001b[0mmr\u001b[0m\u001b[0;34m.\u001b[0m\u001b[0mmr_list\u001b[0m\u001b[0;34m[\u001b[0m\u001b[0mi\u001b[0m\u001b[0;34m]\u001b[0m\u001b[0;34m.\u001b[0m\u001b[0mspline_list\u001b[0m\u001b[0;34m[\u001b[0m\u001b[0;36m0\u001b[0m\u001b[0;34m]\u001b[0m\u001b[0;34m.\u001b[0m\u001b[0mdesignMat\u001b[0m\u001b[0;34m(\u001b[0m\u001b[0mx\u001b[0m\u001b[0;34m)\u001b[0m \u001b[0;32mfor\u001b[0m \u001b[0mi\u001b[0m \u001b[0;32min\u001b[0m \u001b[0mrange\u001b[0m\u001b[0;34m(\u001b[0m\u001b[0mmr\u001b[0m\u001b[0;34m.\u001b[0m\u001b[0mnum_splines\u001b[0m\u001b[0;34m)\u001b[0m\u001b[0;34m]\u001b[0m\u001b[0;34m\u001b[0m\u001b[0;34m\u001b[0m\u001b[0m\n\u001b[0;32m----> 9\u001b[0;31m \u001b[0mdX_list\u001b[0m \u001b[0;34m=\u001b[0m \u001b[0;34m[\u001b[0m\u001b[0mmr\u001b[0m\u001b[0;34m.\u001b[0m\u001b[0mmr_list\u001b[0m\u001b[0;34m[\u001b[0m\u001b[0mi\u001b[0m\u001b[0;34m]\u001b[0m\u001b[0;34m.\u001b[0m\u001b[0mspline_list\u001b[0m\u001b[0;34m[\u001b[0m\u001b[0;36m0\u001b[0m\u001b[0;34m]\u001b[0m\u001b[0;34m.\u001b[0m\u001b[0mdesignDMat\u001b[0m\u001b[0;34m(\u001b[0m\u001b[0mx\u001b[0m\u001b[0;34m,\u001b[0m \u001b[0;36m1\u001b[0m\u001b[0;34m)\u001b[0m \u001b[0;32mfor\u001b[0m \u001b[0mi\u001b[0m \u001b[0;32min\u001b[0m \u001b[0mrange\u001b[0m\u001b[0;34m(\u001b[0m\u001b[0mmr\u001b[0m\u001b[0;34m.\u001b[0m\u001b[0mnum_splines\u001b[0m\u001b[0;34m)\u001b[0m\u001b[0;34m]\u001b[0m\u001b[0;34m\u001b[0m\u001b[0;34m\u001b[0m\u001b[0m\n\u001b[0m\u001b[1;32m     10\u001b[0m \u001b[0mpred_slope_list\u001b[0m \u001b[0;34m=\u001b[0m \u001b[0;34m[\u001b[0m\u001b[0mdX_list\u001b[0m\u001b[0;34m[\u001b[0m\u001b[0mi\u001b[0m\u001b[0;34m]\u001b[0m\u001b[0;34m.\u001b[0m\u001b[0mdot\u001b[0m\u001b[0;34m(\u001b[0m\u001b[0mmr\u001b[0m\u001b[0;34m.\u001b[0m\u001b[0mmr_list\u001b[0m\u001b[0;34m[\u001b[0m\u001b[0mi\u001b[0m\u001b[0;34m]\u001b[0m\u001b[0;34m.\u001b[0m\u001b[0mbeta_soln\u001b[0m\u001b[0;34m)\u001b[0m\u001b[0;34m/\u001b[0m\u001b[0mX_list\u001b[0m\u001b[0;34m[\u001b[0m\u001b[0mi\u001b[0m\u001b[0;34m]\u001b[0m\u001b[0;34m.\u001b[0m\u001b[0mdot\u001b[0m\u001b[0;34m(\u001b[0m\u001b[0mmr\u001b[0m\u001b[0;34m.\u001b[0m\u001b[0mmr_list\u001b[0m\u001b[0;34m[\u001b[0m\u001b[0mi\u001b[0m\u001b[0;34m]\u001b[0m\u001b[0;34m.\u001b[0m\u001b[0mbeta_soln\u001b[0m\u001b[0;34m)\u001b[0m \u001b[0;32mfor\u001b[0m \u001b[0mi\u001b[0m \u001b[0;32min\u001b[0m \u001b[0mrange\u001b[0m\u001b[0;34m(\u001b[0m\u001b[0mmr\u001b[0m\u001b[0;34m.\u001b[0m\u001b[0mnum_splines\u001b[0m\u001b[0;34m)\u001b[0m\u001b[0;34m]\u001b[0m\u001b[0;34m\u001b[0m\u001b[0;34m\u001b[0m\u001b[0m\n\u001b[1;32m     11\u001b[0m \u001b[0mpred_slope\u001b[0m \u001b[0;34m=\u001b[0m \u001b[0mnp\u001b[0m\u001b[0;34m.\u001b[0m\u001b[0mvstack\u001b[0m\u001b[0;34m(\u001b[0m\u001b[0mpred_slope_list\u001b[0m\u001b[0;34m)\u001b[0m\u001b[0;34m.\u001b[0m\u001b[0mT\u001b[0m\u001b[0;34m.\u001b[0m\u001b[0mdot\u001b[0m\u001b[0;34m(\u001b[0m\u001b[0mmr\u001b[0m\u001b[0;34m.\u001b[0m\u001b[0mweights\u001b[0m\u001b[0;34m)\u001b[0m\u001b[0;34m\u001b[0m\u001b[0;34m\u001b[0m\u001b[0m\n",
      "\u001b[0;32m/ihme/code/mscm/miniconda3/envs/mrbrt/lib/python3.7/site-packages/xspline/__init__.py\u001b[0m in \u001b[0;36mdesignDMat\u001b[0;34m(self, x, n, l_extra, r_extra)\u001b[0m\n\u001b[1;32m    425\u001b[0m         DX = np.vstack([\n\u001b[1;32m    426\u001b[0m             \u001b[0mself\u001b[0m\u001b[0;34m.\u001b[0m\u001b[0msplineDF\u001b[0m\u001b[0;34m(\u001b[0m\u001b[0mx\u001b[0m\u001b[0;34m,\u001b[0m \u001b[0mi\u001b[0m\u001b[0;34m,\u001b[0m \u001b[0mn\u001b[0m\u001b[0;34m,\u001b[0m \u001b[0ml_extra\u001b[0m\u001b[0;34m=\u001b[0m\u001b[0ml_extra\u001b[0m\u001b[0;34m,\u001b[0m \u001b[0mr_extra\u001b[0m\u001b[0;34m=\u001b[0m\u001b[0mr_extra\u001b[0m\u001b[0;34m)\u001b[0m\u001b[0;34m\u001b[0m\u001b[0;34m\u001b[0m\u001b[0m\n\u001b[0;32m--> 427\u001b[0;31m             \u001b[0;32mfor\u001b[0m \u001b[0mi\u001b[0m \u001b[0;32min\u001b[0m \u001b[0mrange\u001b[0m\u001b[0;34m(\u001b[0m\u001b[0mself\u001b[0m\u001b[0;34m.\u001b[0m\u001b[0mnum_spline_bases\u001b[0m\u001b[0;34m)\u001b[0m\u001b[0;34m\u001b[0m\u001b[0;34m\u001b[0m\u001b[0m\n\u001b[0m\u001b[1;32m    428\u001b[0m             ]).T\n\u001b[1;32m    429\u001b[0m \u001b[0;34m\u001b[0m\u001b[0m\n",
      "\u001b[0;32m/ihme/code/mscm/miniconda3/envs/mrbrt/lib/python3.7/site-packages/xspline/__init__.py\u001b[0m in \u001b[0;36m<listcomp>\u001b[0;34m(.0)\u001b[0m\n\u001b[1;32m    425\u001b[0m         DX = np.vstack([\n\u001b[1;32m    426\u001b[0m             \u001b[0mself\u001b[0m\u001b[0;34m.\u001b[0m\u001b[0msplineDF\u001b[0m\u001b[0;34m(\u001b[0m\u001b[0mx\u001b[0m\u001b[0;34m,\u001b[0m \u001b[0mi\u001b[0m\u001b[0;34m,\u001b[0m \u001b[0mn\u001b[0m\u001b[0;34m,\u001b[0m \u001b[0ml_extra\u001b[0m\u001b[0;34m=\u001b[0m\u001b[0ml_extra\u001b[0m\u001b[0;34m,\u001b[0m \u001b[0mr_extra\u001b[0m\u001b[0;34m=\u001b[0m\u001b[0mr_extra\u001b[0m\u001b[0;34m)\u001b[0m\u001b[0;34m\u001b[0m\u001b[0;34m\u001b[0m\u001b[0m\n\u001b[0;32m--> 427\u001b[0;31m             \u001b[0;32mfor\u001b[0m \u001b[0mi\u001b[0m \u001b[0;32min\u001b[0m \u001b[0mrange\u001b[0m\u001b[0;34m(\u001b[0m\u001b[0mself\u001b[0m\u001b[0;34m.\u001b[0m\u001b[0mnum_spline_bases\u001b[0m\u001b[0;34m)\u001b[0m\u001b[0;34m\u001b[0m\u001b[0;34m\u001b[0m\u001b[0m\n\u001b[0m\u001b[1;32m    428\u001b[0m             ]).T\n\u001b[1;32m    429\u001b[0m \u001b[0;34m\u001b[0m\u001b[0m\n",
      "\u001b[0;32m/ihme/code/mscm/miniconda3/envs/mrbrt/lib/python3.7/site-packages/xspline/__init__.py\u001b[0m in \u001b[0;36msplineDF\u001b[0;34m(self, x, i, n, l_extra, r_extra)\u001b[0m\n\u001b[1;32m    319\u001b[0m \u001b[0;34m\u001b[0m\u001b[0m\n\u001b[1;32m    320\u001b[0m         \u001b[0;32mif\u001b[0m \u001b[0;32mnot\u001b[0m \u001b[0mself\u001b[0m\u001b[0;34m.\u001b[0m\u001b[0ml_linear\u001b[0m \u001b[0;32mand\u001b[0m \u001b[0;32mnot\u001b[0m \u001b[0mself\u001b[0m\u001b[0;34m.\u001b[0m\u001b[0mr_linear\u001b[0m\u001b[0;34m:\u001b[0m\u001b[0;34m\u001b[0m\u001b[0;34m\u001b[0m\u001b[0m\n\u001b[0;32m--> 321\u001b[0;31m             \u001b[0;32mreturn\u001b[0m \u001b[0mself\u001b[0m\u001b[0;34m.\u001b[0m\u001b[0mbs\u001b[0m\u001b[0;34m.\u001b[0m\u001b[0msplineDF\u001b[0m\u001b[0;34m(\u001b[0m\u001b[0mx\u001b[0m\u001b[0;34m,\u001b[0m \u001b[0mi\u001b[0m\u001b[0;34m,\u001b[0m \u001b[0mn\u001b[0m\u001b[0;34m,\u001b[0m \u001b[0ml_extra\u001b[0m\u001b[0;34m=\u001b[0m\u001b[0ml_extra\u001b[0m\u001b[0;34m,\u001b[0m \u001b[0mr_extra\u001b[0m\u001b[0;34m=\u001b[0m\u001b[0mr_extra\u001b[0m\u001b[0;34m)\u001b[0m\u001b[0;34m\u001b[0m\u001b[0;34m\u001b[0m\u001b[0m\n\u001b[0m\u001b[1;32m    322\u001b[0m \u001b[0;34m\u001b[0m\u001b[0m\n\u001b[1;32m    323\u001b[0m         \u001b[0mouter_lb\u001b[0m \u001b[0;34m=\u001b[0m \u001b[0mself\u001b[0m\u001b[0;34m.\u001b[0m\u001b[0mknots\u001b[0m\u001b[0;34m[\u001b[0m\u001b[0;36m0\u001b[0m\u001b[0;34m]\u001b[0m\u001b[0;34m\u001b[0m\u001b[0;34m\u001b[0m\u001b[0m\n",
      "\u001b[0;32m/ihme/code/mscm/miniconda3/envs/mrbrt/lib/python3.7/site-packages/xspline/__init__.py\u001b[0m in \u001b[0;36msplineDF\u001b[0;34m(self, x, i, n, l_extra, r_extra)\u001b[0m\n\u001b[1;32m    129\u001b[0m         \u001b[0;34m\"\"\"spline differentiation function\"\"\"\u001b[0m\u001b[0;34m\u001b[0m\u001b[0;34m\u001b[0m\u001b[0m\n\u001b[1;32m    130\u001b[0m         return self.splineDFGen(x, i, self.degree, n,\n\u001b[0;32m--> 131\u001b[0;31m                                 l_extra=l_extra, r_extra=r_extra)\n\u001b[0m\u001b[1;32m    132\u001b[0m \u001b[0;34m\u001b[0m\u001b[0m\n\u001b[1;32m    133\u001b[0m     \u001b[0;31m# -------------------------------------------------------------------------\u001b[0m\u001b[0;34m\u001b[0m\u001b[0;34m\u001b[0m\u001b[0;34m\u001b[0m\u001b[0m\n",
      "\u001b[0;32m/ihme/code/mscm/miniconda3/envs/mrbrt/lib/python3.7/site-packages/xspline/__init__.py\u001b[0m in \u001b[0;36msplineDFGen\u001b[0;34m(self, x, i, p, n, l_extra, r_extra)\u001b[0m\n\u001b[1;32m    120\u001b[0m             \u001b[0mf\u001b[0m \u001b[0;34m=\u001b[0m \u001b[0;34m(\u001b[0m\u001b[0mx\u001b[0m \u001b[0;34m-\u001b[0m \u001b[0minvl\u001b[0m\u001b[0;34m[\u001b[0m\u001b[0;36m1\u001b[0m\u001b[0;34m]\u001b[0m\u001b[0;34m)\u001b[0m\u001b[0;34m/\u001b[0m\u001b[0md\u001b[0m\u001b[0;34m\u001b[0m\u001b[0;34m\u001b[0m\u001b[0m\n\u001b[1;32m    121\u001b[0m             ldf = f * self.splineDFGen(x, i, p - 1, n,\n\u001b[0;32m--> 122\u001b[0;31m                                        l_extra=l_extra, r_extra=r_extra) +\\\n\u001b[0m\u001b[1;32m    123\u001b[0m                 n*self.splineDFGen(x, i, p - 1, n - 1,\n\u001b[1;32m    124\u001b[0m                                    l_extra=l_extra, r_extra=r_extra) / d\n",
      "\u001b[0;32m/ihme/code/mscm/miniconda3/envs/mrbrt/lib/python3.7/site-packages/xspline/__init__.py\u001b[0m in \u001b[0;36msplineDFGen\u001b[0;34m(self, x, i, p, n, l_extra, r_extra)\u001b[0m\n\u001b[1;32m    120\u001b[0m             \u001b[0mf\u001b[0m \u001b[0;34m=\u001b[0m \u001b[0;34m(\u001b[0m\u001b[0mx\u001b[0m \u001b[0;34m-\u001b[0m \u001b[0minvl\u001b[0m\u001b[0;34m[\u001b[0m\u001b[0;36m1\u001b[0m\u001b[0;34m]\u001b[0m\u001b[0;34m)\u001b[0m\u001b[0;34m/\u001b[0m\u001b[0md\u001b[0m\u001b[0;34m\u001b[0m\u001b[0;34m\u001b[0m\u001b[0m\n\u001b[1;32m    121\u001b[0m             ldf = f * self.splineDFGen(x, i, p - 1, n,\n\u001b[0;32m--> 122\u001b[0;31m                                        l_extra=l_extra, r_extra=r_extra) +\\\n\u001b[0m\u001b[1;32m    123\u001b[0m                 n*self.splineDFGen(x, i, p - 1, n - 1,\n\u001b[1;32m    124\u001b[0m                                    l_extra=l_extra, r_extra=r_extra) / d\n",
      "\u001b[0;32m/ihme/code/mscm/miniconda3/envs/mrbrt/lib/python3.7/site-packages/xspline/__init__.py\u001b[0m in \u001b[0;36msplineDFGen\u001b[0;34m(self, x, i, p, n, l_extra, r_extra)\u001b[0m\n\u001b[1;32m    120\u001b[0m             \u001b[0mf\u001b[0m \u001b[0;34m=\u001b[0m \u001b[0;34m(\u001b[0m\u001b[0mx\u001b[0m \u001b[0;34m-\u001b[0m \u001b[0minvl\u001b[0m\u001b[0;34m[\u001b[0m\u001b[0;36m1\u001b[0m\u001b[0;34m]\u001b[0m\u001b[0;34m)\u001b[0m\u001b[0;34m/\u001b[0m\u001b[0md\u001b[0m\u001b[0;34m\u001b[0m\u001b[0;34m\u001b[0m\u001b[0m\n\u001b[1;32m    121\u001b[0m             ldf = f * self.splineDFGen(x, i, p - 1, n,\n\u001b[0;32m--> 122\u001b[0;31m                                        l_extra=l_extra, r_extra=r_extra) +\\\n\u001b[0m\u001b[1;32m    123\u001b[0m                 n*self.splineDFGen(x, i, p - 1, n - 1,\n\u001b[1;32m    124\u001b[0m                                    l_extra=l_extra, r_extra=r_extra) / d\n",
      "\u001b[0;31mValueError\u001b[0m: operands could not be broadcast together with shapes (152,4) (608,) "
     ]
    }
   ],
   "source": [
    "# visualize the data fit in the slope space\n",
    "a_mean = (a0 + a1)/2.0\n",
    "b_mean = (b0 + b1)/2.0\n",
    "total_mean = (a0 + a1 + b0 + b1)/4.0\n",
    "\n",
    "obs_slope = obs_mean/(b_mean - a_mean)\n",
    "\n",
    "X_list = [mr.mr_list[i].spline_list[0].designMat(x) for i in range(mr.num_splines)]\n",
    "dX_list = [mr.mr_list[i].spline_list[0].designDMat(x, 1) for i in range(mr.num_splines)]\n",
    "pred_slope_list = [dX_list[i].dot(mr.mr_list[i].beta_soln)/X_list[i].dot(mr.mr_list[i].beta_soln) for i in range(mr.num_splines)]\n",
    "pred_slope = np.vstack(pred_slope_list).T.dot(mr.weights)\n",
    "\n",
    "plt.scatter(total_mean, obs_slope, s=1.0/obs_std)\n",
    "plt.plot(pred_slope)\n",
    "plt.xlim(0,18)\n",
    "plt.ylim(-1,1)\n",
    "plt.xlabel('Education')\n",
    "plt.ylabel('slope of log relative risk curve')\n",
    "plt.title('ratio model')"
   ]
  },
  {
   "cell_type": "code",
   "execution_count": 223,
   "metadata": {},
   "outputs": [
    {
     "name": "stderr",
     "output_type": "stream",
     "text": [
      "/ihme/code/mscm/miniconda3/envs/mrbrt/lib/python3.7/site-packages/ipykernel_launcher.py:2: MatplotlibDeprecationWarning: cycling among columns of inputs with non-matching shapes is deprecated.\n",
      "  \n"
     ]
    },
    {
     "ename": "ValueError",
     "evalue": "x and y must have same first dimension, but have shapes (152, 4) and (20,)",
     "output_type": "error",
     "traceback": [
      "\u001b[0;31m---------------------------------------------------------------------------\u001b[0m",
      "\u001b[0;31mValueError\u001b[0m                                Traceback (most recent call last)",
      "\u001b[0;32m<ipython-input-223-f2416675009d>\u001b[0m in \u001b[0;36m<module>\u001b[0;34m\u001b[0m\n\u001b[1;32m      1\u001b[0m \u001b[0;31m# visualize the samples\u001b[0m\u001b[0;34m\u001b[0m\u001b[0;34m\u001b[0m\u001b[0;34m\u001b[0m\u001b[0m\n\u001b[1;32m      2\u001b[0m \u001b[0mplt\u001b[0m\u001b[0;34m.\u001b[0m\u001b[0mplot\u001b[0m\u001b[0;34m(\u001b[0m\u001b[0mx\u001b[0m\u001b[0;34m,\u001b[0m \u001b[0my_samples\u001b[0m\u001b[0;34m.\u001b[0m\u001b[0mT\u001b[0m\u001b[0;34m,\u001b[0m \u001b[0mcolor\u001b[0m\u001b[0;34m=\u001b[0m\u001b[0;34m\"#98AFC7\"\u001b[0m\u001b[0;34m,\u001b[0m \u001b[0malpha\u001b[0m\u001b[0;34m=\u001b[0m\u001b[0;36m0.6\u001b[0m\u001b[0;34m)\u001b[0m\u001b[0;34m\u001b[0m\u001b[0;34m\u001b[0m\u001b[0m\n\u001b[0;32m----> 3\u001b[0;31m \u001b[0mfig\u001b[0m \u001b[0;34m=\u001b[0m \u001b[0mplt\u001b[0m\u001b[0;34m.\u001b[0m\u001b[0mplot\u001b[0m\u001b[0;34m(\u001b[0m\u001b[0mx\u001b[0m\u001b[0;34m,\u001b[0m \u001b[0my_mean\u001b[0m\u001b[0;34m,\u001b[0m \u001b[0mcolor\u001b[0m\u001b[0;34m=\u001b[0m\u001b[0;34m\"r\"\u001b[0m\u001b[0;34m)\u001b[0m\u001b[0;34m\u001b[0m\u001b[0;34m\u001b[0m\u001b[0m\n\u001b[0m",
      "\u001b[0;32m/ihme/code/mscm/miniconda3/envs/mrbrt/lib/python3.7/site-packages/matplotlib/pyplot.py\u001b[0m in \u001b[0;36mplot\u001b[0;34m(scalex, scaley, data, *args, **kwargs)\u001b[0m\n\u001b[1;32m   2793\u001b[0m     return gca().plot(\n\u001b[1;32m   2794\u001b[0m         *args, scalex=scalex, scaley=scaley, **({\"data\": data} if data\n\u001b[0;32m-> 2795\u001b[0;31m         is not None else {}), **kwargs)\n\u001b[0m\u001b[1;32m   2796\u001b[0m \u001b[0;34m\u001b[0m\u001b[0m\n\u001b[1;32m   2797\u001b[0m \u001b[0;34m\u001b[0m\u001b[0m\n",
      "\u001b[0;32m/ihme/code/mscm/miniconda3/envs/mrbrt/lib/python3.7/site-packages/matplotlib/axes/_axes.py\u001b[0m in \u001b[0;36mplot\u001b[0;34m(self, scalex, scaley, data, *args, **kwargs)\u001b[0m\n\u001b[1;32m   1664\u001b[0m         \"\"\"\n\u001b[1;32m   1665\u001b[0m         \u001b[0mkwargs\u001b[0m \u001b[0;34m=\u001b[0m \u001b[0mcbook\u001b[0m\u001b[0;34m.\u001b[0m\u001b[0mnormalize_kwargs\u001b[0m\u001b[0;34m(\u001b[0m\u001b[0mkwargs\u001b[0m\u001b[0;34m,\u001b[0m \u001b[0mmlines\u001b[0m\u001b[0;34m.\u001b[0m\u001b[0mLine2D\u001b[0m\u001b[0;34m.\u001b[0m\u001b[0m_alias_map\u001b[0m\u001b[0;34m)\u001b[0m\u001b[0;34m\u001b[0m\u001b[0;34m\u001b[0m\u001b[0m\n\u001b[0;32m-> 1666\u001b[0;31m         \u001b[0mlines\u001b[0m \u001b[0;34m=\u001b[0m \u001b[0;34m[\u001b[0m\u001b[0;34m*\u001b[0m\u001b[0mself\u001b[0m\u001b[0;34m.\u001b[0m\u001b[0m_get_lines\u001b[0m\u001b[0;34m(\u001b[0m\u001b[0;34m*\u001b[0m\u001b[0margs\u001b[0m\u001b[0;34m,\u001b[0m \u001b[0mdata\u001b[0m\u001b[0;34m=\u001b[0m\u001b[0mdata\u001b[0m\u001b[0;34m,\u001b[0m \u001b[0;34m**\u001b[0m\u001b[0mkwargs\u001b[0m\u001b[0;34m)\u001b[0m\u001b[0;34m]\u001b[0m\u001b[0;34m\u001b[0m\u001b[0;34m\u001b[0m\u001b[0m\n\u001b[0m\u001b[1;32m   1667\u001b[0m         \u001b[0;32mfor\u001b[0m \u001b[0mline\u001b[0m \u001b[0;32min\u001b[0m \u001b[0mlines\u001b[0m\u001b[0;34m:\u001b[0m\u001b[0;34m\u001b[0m\u001b[0;34m\u001b[0m\u001b[0m\n\u001b[1;32m   1668\u001b[0m             \u001b[0mself\u001b[0m\u001b[0;34m.\u001b[0m\u001b[0madd_line\u001b[0m\u001b[0;34m(\u001b[0m\u001b[0mline\u001b[0m\u001b[0;34m)\u001b[0m\u001b[0;34m\u001b[0m\u001b[0;34m\u001b[0m\u001b[0m\n",
      "\u001b[0;32m/ihme/code/mscm/miniconda3/envs/mrbrt/lib/python3.7/site-packages/matplotlib/axes/_base.py\u001b[0m in \u001b[0;36m__call__\u001b[0;34m(self, *args, **kwargs)\u001b[0m\n\u001b[1;32m    223\u001b[0m                 \u001b[0mthis\u001b[0m \u001b[0;34m+=\u001b[0m \u001b[0margs\u001b[0m\u001b[0;34m[\u001b[0m\u001b[0;36m0\u001b[0m\u001b[0;34m]\u001b[0m\u001b[0;34m,\u001b[0m\u001b[0;34m\u001b[0m\u001b[0;34m\u001b[0m\u001b[0m\n\u001b[1;32m    224\u001b[0m                 \u001b[0margs\u001b[0m \u001b[0;34m=\u001b[0m \u001b[0margs\u001b[0m\u001b[0;34m[\u001b[0m\u001b[0;36m1\u001b[0m\u001b[0;34m:\u001b[0m\u001b[0;34m]\u001b[0m\u001b[0;34m\u001b[0m\u001b[0;34m\u001b[0m\u001b[0m\n\u001b[0;32m--> 225\u001b[0;31m             \u001b[0;32myield\u001b[0m \u001b[0;32mfrom\u001b[0m \u001b[0mself\u001b[0m\u001b[0;34m.\u001b[0m\u001b[0m_plot_args\u001b[0m\u001b[0;34m(\u001b[0m\u001b[0mthis\u001b[0m\u001b[0;34m,\u001b[0m \u001b[0mkwargs\u001b[0m\u001b[0;34m)\u001b[0m\u001b[0;34m\u001b[0m\u001b[0;34m\u001b[0m\u001b[0m\n\u001b[0m\u001b[1;32m    226\u001b[0m \u001b[0;34m\u001b[0m\u001b[0m\n\u001b[1;32m    227\u001b[0m     \u001b[0;32mdef\u001b[0m \u001b[0mget_next_color\u001b[0m\u001b[0;34m(\u001b[0m\u001b[0mself\u001b[0m\u001b[0;34m)\u001b[0m\u001b[0;34m:\u001b[0m\u001b[0;34m\u001b[0m\u001b[0;34m\u001b[0m\u001b[0m\n",
      "\u001b[0;32m/ihme/code/mscm/miniconda3/envs/mrbrt/lib/python3.7/site-packages/matplotlib/axes/_base.py\u001b[0m in \u001b[0;36m_plot_args\u001b[0;34m(self, tup, kwargs)\u001b[0m\n\u001b[1;32m    389\u001b[0m             \u001b[0mx\u001b[0m\u001b[0;34m,\u001b[0m \u001b[0my\u001b[0m \u001b[0;34m=\u001b[0m \u001b[0mindex_of\u001b[0m\u001b[0;34m(\u001b[0m\u001b[0mtup\u001b[0m\u001b[0;34m[\u001b[0m\u001b[0;34m-\u001b[0m\u001b[0;36m1\u001b[0m\u001b[0;34m]\u001b[0m\u001b[0;34m)\u001b[0m\u001b[0;34m\u001b[0m\u001b[0;34m\u001b[0m\u001b[0m\n\u001b[1;32m    390\u001b[0m \u001b[0;34m\u001b[0m\u001b[0m\n\u001b[0;32m--> 391\u001b[0;31m         \u001b[0mx\u001b[0m\u001b[0;34m,\u001b[0m \u001b[0my\u001b[0m \u001b[0;34m=\u001b[0m \u001b[0mself\u001b[0m\u001b[0;34m.\u001b[0m\u001b[0m_xy_from_xy\u001b[0m\u001b[0;34m(\u001b[0m\u001b[0mx\u001b[0m\u001b[0;34m,\u001b[0m \u001b[0my\u001b[0m\u001b[0;34m)\u001b[0m\u001b[0;34m\u001b[0m\u001b[0;34m\u001b[0m\u001b[0m\n\u001b[0m\u001b[1;32m    392\u001b[0m \u001b[0;34m\u001b[0m\u001b[0m\n\u001b[1;32m    393\u001b[0m         \u001b[0;32mif\u001b[0m \u001b[0mself\u001b[0m\u001b[0;34m.\u001b[0m\u001b[0mcommand\u001b[0m \u001b[0;34m==\u001b[0m \u001b[0;34m'plot'\u001b[0m\u001b[0;34m:\u001b[0m\u001b[0;34m\u001b[0m\u001b[0;34m\u001b[0m\u001b[0m\n",
      "\u001b[0;32m/ihme/code/mscm/miniconda3/envs/mrbrt/lib/python3.7/site-packages/matplotlib/axes/_base.py\u001b[0m in \u001b[0;36m_xy_from_xy\u001b[0;34m(self, x, y)\u001b[0m\n\u001b[1;32m    268\u001b[0m         \u001b[0;32mif\u001b[0m \u001b[0mx\u001b[0m\u001b[0;34m.\u001b[0m\u001b[0mshape\u001b[0m\u001b[0;34m[\u001b[0m\u001b[0;36m0\u001b[0m\u001b[0;34m]\u001b[0m \u001b[0;34m!=\u001b[0m \u001b[0my\u001b[0m\u001b[0;34m.\u001b[0m\u001b[0mshape\u001b[0m\u001b[0;34m[\u001b[0m\u001b[0;36m0\u001b[0m\u001b[0;34m]\u001b[0m\u001b[0;34m:\u001b[0m\u001b[0;34m\u001b[0m\u001b[0;34m\u001b[0m\u001b[0m\n\u001b[1;32m    269\u001b[0m             raise ValueError(\"x and y must have same first dimension, but \"\n\u001b[0;32m--> 270\u001b[0;31m                              \"have shapes {} and {}\".format(x.shape, y.shape))\n\u001b[0m\u001b[1;32m    271\u001b[0m         \u001b[0;32mif\u001b[0m \u001b[0mx\u001b[0m\u001b[0;34m.\u001b[0m\u001b[0mndim\u001b[0m \u001b[0;34m>\u001b[0m \u001b[0;36m2\u001b[0m \u001b[0;32mor\u001b[0m \u001b[0my\u001b[0m\u001b[0;34m.\u001b[0m\u001b[0mndim\u001b[0m \u001b[0;34m>\u001b[0m \u001b[0;36m2\u001b[0m\u001b[0;34m:\u001b[0m\u001b[0;34m\u001b[0m\u001b[0;34m\u001b[0m\u001b[0m\n\u001b[1;32m    272\u001b[0m             raise ValueError(\"x and y can be no greater than 2-D, but have \"\n",
      "\u001b[0;31mValueError\u001b[0m: x and y must have same first dimension, but have shapes (152, 4) and (20,)"
     ]
    },
    {
     "data": {
      "image/png": "[encoded data removed]",
      "text/plain": [
       "<Figure size 432x288 with 1 Axes>"
      ]
     },
     "metadata": {
      "needs_background": "light"
     },
     "output_type": "display_data"
    }
   ],
   "source": [
    "# visualize the samples\n",
    "plt.plot(x, y_samples.T, color=\"#98AFC7\", alpha=0.6)\n",
    "fig = plt.plot(x, y_mean, color=\"r\")"
   ]
  },
  {
   "cell_type": "code",
   "execution_count": null,
   "metadata": {},
   "outputs": [],
   "source": []
  }
 ],
 "metadata": {
  "kernelspec": {
   "display_name": "Python 3",
   "language": "python",
   "name": "python3"
  },
  "language_info": {
   "codemirror_mode": {
    "name": "ipython",
    "version": 3
   },
   "file_extension": ".py",
   "mimetype": "text/x-python",
   "name": "python",
   "nbconvert_exporter": "python",
   "pygments_lexer": "ipython3",
   "version": "3.7.5"
  }
 },
 "nbformat": 4,
 "nbformat_minor": 2
}
